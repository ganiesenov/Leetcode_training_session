{
 "cells": [
  {
   "cell_type": "code",
   "execution_count": 7,
   "metadata": {},
   "outputs": [],
   "source": [
    "nums =  [2,7,11,15]"
   ]
  },
  {
   "cell_type": "code",
   "execution_count": 8,
   "metadata": {},
   "outputs": [
    {
     "name": "stdout",
     "output_type": "stream",
     "text": [
      "2\n"
     ]
    }
   ],
   "source": [
    "for num in range(len(nums)):\n",
    "    print(nums[0])\n",
    "    break \n"
   ]
  },
  {
   "cell_type": "code",
   "execution_count": 10,
   "metadata": {},
   "outputs": [
    {
     "name": "stdout",
     "output_type": "stream",
     "text": [
      "2\n"
     ]
    }
   ],
   "source": [
    "print(nums[0])"
   ]
  },
  {
   "cell_type": "code",
   "execution_count": 23,
   "metadata": {},
   "outputs": [
    {
     "name": "stdout",
     "output_type": "stream",
     "text": [
      "{5: 10}\n",
      "{5: 20}\n"
     ]
    }
   ],
   "source": [
    "d = {}\n",
    "d[5] = 10  # Добавляем 5 как ключ, 10 как значение\n",
    "print(d)  # {5: 10}\n",
    "\n",
    "d[5] = 20  # Обновляем значение ключа 5\n",
    "print(d)  # {5: 20}\n"
   ]
  },
  {
   "cell_type": "code",
   "execution_count": null,
   "metadata": {},
   "outputs": [
    {
     "name": "stdout",
     "output_type": "stream",
     "text": [
      "[1, 2]\n"
     ]
    }
   ],
   "source": [
    "hashmap = {}\n",
    "nums = [1, 2 ,3 ,4 , 5 ]\n",
    "target = 5\n",
    "def TwoSum ( nums, target):\n",
    "    for i in range(len(nums)):\n",
    "        complement = target - nums[i]\n",
    "        if complement in hashmap:\n",
    "            return [hashmap[complement], i] \n",
    "        hashmap[nums[i]] = i \n",
    "        \n",
    "print(TwoSum(nums, target))  "
   ]
  },
  {
   "cell_type": "code",
   "execution_count": null,
   "metadata": {},
   "outputs": [
    {
     "name": "stdout",
     "output_type": "stream",
     "text": [
      "[1, 2]\n",
      "[0, 1]\n"
     ]
    }
   ],
   "source": [
    "print(TwoSum([1, 2, 3, 4, 5], 5))  \n",
    "print(TwoSum([2, 7, 11, 15], 9))   \n"
   ]
  },
  {
   "cell_type": "code",
   "execution_count": 22,
   "metadata": {},
   "outputs": [
    {
     "name": "stdout",
     "output_type": "stream",
     "text": [
      "[1, 2]\n",
      "[2, 3]\n"
     ]
    }
   ],
   "source": [
    "hashmap = {}  # Глобальный словарь\n",
    "\n",
    "print(TwoSum([1, 2, 3, 4, 5], 5))  # Ожидаем [1, 2]\n",
    "print(TwoSum([6, 7, 8, 9, 10], 17))  # Ожидаем [2, 3], но...\n"
   ]
  }
 ],
 "metadata": {
  "kernelspec": {
   "display_name": "conda-python",
   "language": "python",
   "name": "python3"
  },
  "language_info": {
   "codemirror_mode": {
    "name": "ipython",
    "version": 3
   },
   "file_extension": ".py",
   "mimetype": "text/x-python",
   "name": "python",
   "nbconvert_exporter": "python",
   "pygments_lexer": "ipython3",
   "version": "3.11.8"
  }
 },
 "nbformat": 4,
 "nbformat_minor": 2
}
